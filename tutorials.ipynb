{
 "cells": [
  {
   "cell_type": "markdown",
   "metadata": {},
   "source": [
    "##  __init__ method vs normal methods"
   ]
  },
  {
   "cell_type": "code",
   "execution_count": 91,
   "metadata": {},
   "outputs": [],
   "source": [
    "class Point:\n",
    "    \n",
    "    def __init__(self, x, y):\n",
    "        print(\"Hey, I am __init__!\")\n",
    "        self.x = x\n",
    "        self.y = y\n",
    "        \n",
    "    def falls_in_rectangle(self, lowleft, upright):\n",
    "        print(\"I am ordinary!\")\n",
    "        if lowleft[0]< self.x <upright[0] \\\n",
    "        and lowleft[1] < self.y < upright[1]:\n",
    "            return True\n",
    "        else:\n",
    "            return False"
   ]
  },
  {
   "cell_type": "code",
   "execution_count": 92,
   "metadata": {},
   "outputs": [
    {
     "name": "stdout",
     "output_type": "stream",
     "text": [
      "Hey, I am __init__!\n"
     ]
    }
   ],
   "source": [
    "point = Point(3,5)"
   ]
  },
  {
   "cell_type": "code",
   "execution_count": 93,
   "metadata": {},
   "outputs": [
    {
     "name": "stdout",
     "output_type": "stream",
     "text": [
      "I am ordinary!\n"
     ]
    },
    {
     "data": {
      "text/plain": [
       "True"
      ]
     },
     "execution_count": 93,
     "metadata": {},
     "output_type": "execute_result"
    }
   ],
   "source": [
    "point.falls_in_rectangle((1,3), (8,9))"
   ]
  },
  {
   "cell_type": "markdown",
   "metadata": {},
   "source": [
    "## distance method assignment "
   ]
  },
  {
   "cell_type": "code",
   "execution_count": 94,
   "metadata": {},
   "outputs": [],
   "source": [
    "class Point:\n",
    "    \n",
    "    def __init__(self, x, y):\n",
    "        self.x = x\n",
    "        self.y = y\n",
    "        \n",
    "    def falls_in_rectangle(self, lowleft, upright):\n",
    "        if lowleft[0]< self.x <upright[0] \\\n",
    "        and lowleft[1] < self.y < upright[1]:\n",
    "            return True\n",
    "        else:\n",
    "            return False \n",
    "        \n",
    "    def distance_from_point(self, x, y):\n",
    "        return ((self.x - x)**2 +\n",
    "                (self.y - y)**2) ** 0.5"
   ]
  },
  {
   "cell_type": "code",
   "execution_count": 95,
   "metadata": {},
   "outputs": [],
   "source": [
    "point1 = Point (1,1)"
   ]
  },
  {
   "cell_type": "code",
   "execution_count": 96,
   "metadata": {},
   "outputs": [
    {
     "data": {
      "text/plain": [
       "2.8284271247461903"
      ]
     },
     "execution_count": 96,
     "metadata": {},
     "output_type": "execute_result"
    }
   ],
   "source": [
    "point1.distance_from_point(3,3)"
   ]
  },
  {
   "cell_type": "markdown",
   "metadata": {},
   "source": [
    "## Geometry Game - More Practise with Classes"
   ]
  },
  {
   "cell_type": "code",
   "execution_count": 97,
   "metadata": {},
   "outputs": [],
   "source": [
    "class Point:\n",
    "    \n",
    "    def __init__(self, x, y):\n",
    "        self.x = x\n",
    "        self.y = y\n",
    "        \n",
    "    def falls_in_rectangle(self, rectangle):\n",
    "        print(rectangle.lowleft.x)\n",
    "        print(rectangle.lowleft.y)\n",
    "        if rectangle.lowleft.x < self.x < rectangle.upright.x \\\n",
    "        and rectangle.lowleft.y < self.y < rectangle.upright.y:\n",
    "            return True\n",
    "        else:\n",
    "            return False "
   ]
  },
  {
   "cell_type": "code",
   "execution_count": 98,
   "metadata": {},
   "outputs": [],
   "source": [
    "class Rectangle:\n",
    "    \n",
    "    def __init__(self, lowleft, upright):\n",
    "        self.lowleft = lowleft\n",
    "        self.upright = upright   "
   ]
  },
  {
   "cell_type": "code",
   "execution_count": 99,
   "metadata": {},
   "outputs": [],
   "source": [
    "pointx = Point(6,7)"
   ]
  },
  {
   "cell_type": "code",
   "execution_count": 100,
   "metadata": {},
   "outputs": [],
   "source": [
    "rectanglex = Rectangle(Point(5,6), Point(7,9))"
   ]
  },
  {
   "cell_type": "code",
   "execution_count": 101,
   "metadata": {},
   "outputs": [
    {
     "name": "stdout",
     "output_type": "stream",
     "text": [
      "5\n",
      "6\n"
     ]
    },
    {
     "data": {
      "text/plain": [
       "True"
      ]
     },
     "execution_count": 101,
     "metadata": {},
     "output_type": "execute_result"
    }
   ],
   "source": [
    "pointx.falls_in_rectangle(rectanglex)"
   ]
  },
  {
   "cell_type": "code",
   "execution_count": 102,
   "metadata": {},
   "outputs": [
    {
     "data": {
      "text/plain": [
       "7"
      ]
     },
     "execution_count": 102,
     "metadata": {},
     "output_type": "execute_result"
    }
   ],
   "source": [
    "Point(6,7).y"
   ]
  },
  {
   "cell_type": "markdown",
   "metadata": {},
   "source": [
    "## Wrapping things up "
   ]
  },
  {
   "cell_type": "code",
   "execution_count": 103,
   "metadata": {},
   "outputs": [],
   "source": [
    "class Point:\n",
    "    \n",
    "    def __init__(self, x, y):\n",
    "        self.x = x\n",
    "        self.y = y\n",
    "        \n",
    "    def falls_in_rectangle(self, rectangle):\n",
    "        if rectangle.lowleft.x < self.x < rectangle.upright.x \\\n",
    "        and rectangle.lowleft.y < self.y < rectangle.upright.y:\n",
    "            return True\n",
    "        else:\n",
    "            return False \n",
    "        \n",
    "class Rectangle:\n",
    "    \n",
    "    def __init__(self, lowleft, upright):\n",
    "        self.lowleft = lowleft\n",
    "        self.upright = upright   "
   ]
  },
  {
   "cell_type": "code",
   "execution_count": 105,
   "metadata": {},
   "outputs": [
    {
     "name": "stdout",
     "output_type": "stream",
     "text": [
      "Rectangle Coordinates: 8 , 9 and 14 , 19\n",
      "Guess X:10\n",
      "Guess y:20\n",
      "Your point was inside rectangle:  False\n"
     ]
    }
   ],
   "source": [
    "from random import randint\n",
    "\n",
    "rectangle = Rectangle (\n",
    "    Point(randint(0,9),randint(0,9)),\n",
    "    Point(randint(10,19),randint(10,19)))  \n",
    "\n",
    "print(\"Rectangle Coordinates:\",\n",
    "     rectangle.lowleft.x,\",\",\n",
    "     rectangle.lowleft.y,\"and\",\n",
    "     rectangle.upright.x,\",\",\n",
    "     rectangle.upright.y)\n",
    "\n",
    "user_point = Point(float(input(\"Guess X:\")),\n",
    "                   float(input(\"Guess y:\")))\n",
    "\n",
    "print(\"Your point was inside rectangle: \",\n",
    "     user_point.falls_in_rectangle(rectangle))"
   ]
  },
  {
   "cell_type": "markdown",
   "metadata": {},
   "source": [
    "## Adding new Feature "
   ]
  },
  {
   "cell_type": "code",
   "execution_count": 106,
   "metadata": {},
   "outputs": [],
   "source": [
    "class Point:\n",
    " \n",
    "    def __init__(self, x, y):\n",
    "        self.x = x\n",
    "        self.y = y\n",
    " \n",
    "    def falls_in_rectangle(self, rectangle):\n",
    "        if rectangle.point1.x < self.x < rectangle.point2.x \\\n",
    "                and rectangle.point1.y < self.y < rectangle.point2.y:\n",
    "            return True\n",
    "        else:\n",
    "            return False\n",
    " \n",
    " \n",
    "class Rectangle:\n",
    " \n",
    "    def __init__(self, point1, point2):\n",
    "        self.point1 = point1\n",
    "        self.point2 = point2\n",
    " \n",
    "    def area(self):\n",
    "        return (self.point2.x - self.point1.x) * \\\n",
    "               (self.point2.y - self.point1.y)"
   ]
  },
  {
   "cell_type": "code",
   "execution_count": 108,
   "metadata": {},
   "outputs": [
    {
     "name": "stdout",
     "output_type": "stream",
     "text": [
      "Rectangle Coordinates:  6 , 6 and 17 , 14\n",
      "Guess x: 20\n",
      "Guess y: 24\n",
      "Guess rectangle area: 856\n",
      "Your point was inside rectangle:  False\n",
      "Your area was off by:  -768.0\n"
     ]
    }
   ],
   "source": [
    "rectangle = Rectangle(Point(randint(0, 9), randint(0, 9)), \n",
    "              Point(randint(10, 19), randint(10, 19)))\n",
    " \n",
    "# Print rectangle coordinates\n",
    "print(\"Rectangle Coordinates: \",\n",
    "      rectangle.point1.x, \",\",\n",
    "      rectangle.point1.y, \"and\",\n",
    "      rectangle.point2.x, \",\",\n",
    "      rectangle.point2.y)\n",
    " \n",
    "# Get point and area from user\n",
    "user_point = Point(float(input(\"Guess x: \")), float(input(\"Guess y: \")))\n",
    "user_area = float(input(\"Guess rectangle area: \"))\n",
    " \n",
    "# Print out the game result\n",
    "print(\"Your point was inside rectangle: \", user_point.falls_in_rectangle(rectangle))\n",
    "print(\"Your area was off by: \", rectangle.area() - user_area)"
   ]
  },
  {
   "cell_type": "code",
   "execution_count": null,
   "metadata": {},
   "outputs": [],
   "source": []
  },
  {
   "cell_type": "code",
   "execution_count": null,
   "metadata": {},
   "outputs": [],
   "source": []
  },
  {
   "cell_type": "code",
   "execution_count": null,
   "metadata": {},
   "outputs": [],
   "source": []
  }
 ],
 "metadata": {
  "kernelspec": {
   "display_name": "Python 3 (ipykernel)",
   "language": "python",
   "name": "python3"
  },
  "language_info": {
   "codemirror_mode": {
    "name": "ipython",
    "version": 3
   },
   "file_extension": ".py",
   "mimetype": "text/x-python",
   "name": "python",
   "nbconvert_exporter": "python",
   "pygments_lexer": "ipython3",
   "version": "3.9.6"
  }
 },
 "nbformat": 4,
 "nbformat_minor": 1
}
